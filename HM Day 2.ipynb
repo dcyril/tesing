{
 "cells": [
  {
   "cell_type": "markdown",
   "id": "71d4c5b2-60ad-4c17-bf32-68756ab997f1",
   "metadata": {},
   "source": [
    "## Design and implement a Complete University Management System in Python using SQLite and functions (def) with the following requirements:\n",
    "1. Database (SQLite)\n",
    "\n",
    "Create the following tables:\n",
    "\n",
    "Departments (dept_id, dept_name, hod_name)\n",
    "\n",
    "Students (student_id, name, class, dept_id)\n",
    "\n",
    "Subjects (subject_id, subject_name, dept_id)\n",
    "\n",
    "Marks (mark_id, student_id, subject_id, marks)"
   ]
  },
  {
   "cell_type": "code",
   "execution_count": 227,
   "id": "986a8608-febe-44af-b8de-74c8321eae32",
   "metadata": {},
   "outputs": [],
   "source": [
    "import sqlite3\n",
    "conn = sqlite3.connect('students.db')\n",
    "cursor = conn.cursor()"
   ]
  },
  {
   "cell_type": "code",
   "execution_count": 229,
   "id": "18445963-27a9-4d86-8f76-e05c556aec02",
   "metadata": {},
   "outputs": [],
   "source": [
    "cursor.execute('''\n",
    "    CREATE TABLE departments(\n",
    "        dept_id INTEGER PRIMARY KEY,\n",
    "        dept_name TEXT,\n",
    "        hod_name TEXT\n",
    "    )\n",
    "''')\n",
    "conn.commit()"
   ]
  },
  {
   "cell_type": "code",
   "execution_count": 230,
   "id": "4f7ed9c3-67f0-4791-b81c-e1ed7463dfab",
   "metadata": {},
   "outputs": [],
   "source": [
    "cursor.execute('''\n",
    "    CREATE TABLE student(\n",
    "        student_id INTEGER PRIMARY KEY,\n",
    "        name TEXT,\n",
    "        stu_class TEXT,\n",
    "        dept_id INTEGER,\n",
    "        FOREIGN KEY(dept_id) REFERENCES departments(dept_id)\n",
    "    )\n",
    "''')\n",
    "conn.commit()"
   ]
  },
  {
   "cell_type": "code",
   "execution_count": 231,
   "id": "0656fc91-628a-4a93-9ee0-e85e0fe6306c",
   "metadata": {},
   "outputs": [],
   "source": [
    "cursor.execute('''CREATE TABLE subjects (\n",
    "            subject_id INTEGER PRIMARY KEY ,\n",
    "            subject_name TEXT,\n",
    "            dept_id INTEGER,\n",
    "            FOREIGN KEY(dept_id) references departments(dept_id)\n",
    ")''')\n",
    "conn.commit()"
   ]
  },
  {
   "cell_type": "code",
   "execution_count": null,
   "id": "fd632281-f8c7-4388-bf9a-b8cc629d6a72",
   "metadata": {},
   "outputs": [],
   "source": []
  },
  {
   "cell_type": "code",
   "execution_count": 232,
   "id": "359bef69-a927-4300-bf87-4331a29fa882",
   "metadata": {},
   "outputs": [],
   "source": [
    "cursor.execute('''\n",
    "CREATE TABLE Marks (\n",
    "    mark_id INTEGER PRIMARY KEY,\n",
    "    student_id INTEGER,\n",
    "    subject_id INTEGER,\n",
    "    marks INTEGER,\n",
    "    FOREIGN KEY(student_id) REFERENCES Students(student_id),\n",
    "    FOREIGN KEY(subject_id) REFERENCES Subjects(subject_id)\n",
    ")\n",
    "''')\n",
    "conn.commit()"
   ]
  },
  {
   "cell_type": "markdown",
   "id": "a5a9fe35-75f6-4732-bf97-257e8fa80a1e",
   "metadata": {},
   "source": [
    "## data in list for all tables"
   ]
  },
  {
   "cell_type": "code",
   "execution_count": 233,
   "id": "9d6b2605-3195-41f7-8eb3-f1f399e09306",
   "metadata": {},
   "outputs": [],
   "source": [
    "departments_list = [\n",
    "    (1, \"Data Science\", \"DR XX\"),\n",
    "    (2, \"Physics\", \"Dr YY\")\n",
    "]\n",
    "\n",
    "\n",
    "students_list = [\n",
    "    (\"AA\", \"DL\", 1),\n",
    "    (\"BB\", \"ML\", 1),\n",
    "    (\"CC\", \"Set\", 2),\n",
    "    (\"DD\", \"Algebra\", 2),\n",
    "    (\"EE\", \"Calcus\", 1)\n",
    "]\n",
    "subjects_list = [\n",
    "    (\"Data Structures\", 1),\n",
    "    (\"DBMS\", 1),\n",
    "    (\"Algebra\", 2),\n",
    "    (\"Calcus\", 2)\n",
    "]\n",
    "\n",
    "marks_list = [\n",
    "    (1, 1, 78), (1, 2, 81),\n",
    "    (2, 1, 75), (2, 2, 80),\n",
    "    (3, 1, 50), (3, 2, 45),\n",
    "    (4, 1, 85), (4, 2, 90),\n",
    "    (5, 1, 95), (5, 2, 92)\n",
    "]"
   ]
  },
  {
   "cell_type": "markdown",
   "id": "0148c142-e5f0-4ac3-aedf-1959a6c7c785",
   "metadata": {},
   "source": [
    "## function to insert values"
   ]
  },
  {
   "cell_type": "code",
   "execution_count": 176,
   "id": "a627d977-a4e1-4dd0-909a-8f00059394ce",
   "metadata": {},
   "outputs": [],
   "source": [
    "def insert_departments(data_list):\n",
    "    cursor.executemany(\"INSERT INTO departments (dept_id, dept_name, hod_name) VALUES (?, ?, ?)\", data_list)\n",
    "    conn.commit()\n",
    "\n",
    "def insert_student(data_list):\n",
    "    cursor.executemany(\"INSERT INTO student (name,stu_class, dept_id) VALUES (?, ?, ?)\", data_list)\n",
    "    conn.commit()\n",
    "\n",
    "def insert_subjects(data_list):\n",
    "    cursor.executemany(\"INSERT INTO subjects (subject_name, dept_id) VALUES (?, ?)\", data_list)\n",
    "    conn.commit()\n",
    "\n",
    "def insert_marks(data_list):\n",
    "    cursor.executemany(\"INSERT INTO marks (student_id, subject_id, marks) VALUES (?, ?, ?)\", data_list)\n",
    "    conn.commit()\n"
   ]
  },
  {
   "cell_type": "markdown",
   "id": "2c84e964-d516-46ba-9fb3-414c8948592b",
   "metadata": {},
   "source": [
    "cursor.execute(\"DELETE FROM departments\")\n",
    "cursor.execute(\"DELETE FROM student\")\n",
    "cursor.execute(\"DELETE FROM subjects\")\n",
    "cursor.execute(\"DELETE FROM marks\")\n",
    "conn.commit()"
   ]
  },
  {
   "cell_type": "markdown",
   "id": "5fe058bd-9655-4353-b09e-4438121aeee9",
   "metadata": {},
   "source": [
    "# inserting values to table using function"
   ]
  },
  {
   "cell_type": "code",
   "execution_count": 177,
   "id": "afd34a87-775f-4313-a65e-e6f5fb86c562",
   "metadata": {},
   "outputs": [],
   "source": [
    "insert_departments(departments_list)\n",
    "insert_student(students_list)\n",
    "insert_subjects(subjects_list)\n",
    "insert_marks(marks_list)"
   ]
  },
  {
   "cell_type": "code",
   "execution_count": 178,
   "id": "bfeb4759-19e5-410e-900a-f067f6881836",
   "metadata": {},
   "outputs": [
    {
     "name": "stdout",
     "output_type": "stream",
     "text": [
      "done\n"
     ]
    }
   ],
   "source": [
    "def show_studenst():\n",
    "    print(\"\\n--- Students ---\")\n",
    "    cursor.execute('''\n",
    "        SELECT s.student_id, s.name, s.stu_class, d.dept_name\n",
    "        FROM student s\n",
    "        JOIN departments d ON s.dept_id = d.dept_id\n",
    "    ''')\n",
    "    for row in cursor.fetchall():\n",
    "        print(row)\n",
    "print(\"done\")"
   ]
  },
  {
   "cell_type": "markdown",
   "id": "ef9b60fc-55c8-41ac-b1bc-f70dbf706575",
   "metadata": {},
   "source": [
    "cursor.execute(\"DROP TABLE IF EXISTS Marks\")\n",
    "cursor.execute(\"DROP TABLE IF EXISTS Subjects\")\n",
    "cursor.execute(\"DROP TABLE IF EXISTS Student\")\n",
    "cursor.execute(\"DROP TABLE IF EXISTS Departments\")"
   ]
  },
  {
   "cell_type": "markdown",
   "id": "aef1b7fe-ee3b-43bd-8517-b4102617c64f",
   "metadata": {},
   "source": [
    "##show_studenst()"
   ]
  },
  {
   "cell_type": "code",
   "execution_count": 179,
   "id": "df33d059-505c-4020-97aa-e0d1f753c73f",
   "metadata": {},
   "outputs": [],
   "source": [
    "def show_subjects():\n",
    "    print(\"\\n--- Subjects ---\")\n",
    "    cursor.execute('''\n",
    "        SELECT subj.subject_id, subj.subject_name, d.dept_name\n",
    "        FROM subjects subj\n",
    "        JOIN departments d ON subj.dept_id = d.dept_id\n",
    "    ''')\n",
    "    for row in cursor.fetchall():\n",
    "        print(row)\n",
    "##show_subjects()"
   ]
  },
  {
   "cell_type": "code",
   "execution_count": 180,
   "id": "f95a5a17-b186-4157-abba-280cb5922bfd",
   "metadata": {},
   "outputs": [],
   "source": [
    "def show_marks():\n",
    "    print(\"\\n--- Marks ---\")\n",
    "    cursor.execute('''\n",
    "        SELECT s.name, subj.subject_name, m.marks\n",
    "        FROM marks m\n",
    "        JOIN student s ON m.student_id = s.student_id\n",
    "        JOIN subjects subj ON m.subject_id = subj.subject_id\n",
    "    ''')\n",
    "    for row in cursor.fetchall():\n",
    "        print(row)\n",
    "##show_marks()"
   ]
  },
  {
   "cell_type": "code",
   "execution_count": 181,
   "id": "9478c93c-acd8-42aa-825b-d8fbf3e1e389",
   "metadata": {},
   "outputs": [],
   "source": [
    "def unique_subjects():\n",
    "    cursor.execute('SELECT subject_name FROM subjects')\n",
    "    rows = cursor.fetchall()\n",
    "    return {row[0] for row in rows}\n",
    "##unique_subjects()"
   ]
  },
  {
   "cell_type": "code",
   "execution_count": 182,
   "id": "a6a2999f-bbab-44fa-9973-5ab7abbba50b",
   "metadata": {},
   "outputs": [],
   "source": [
    "def toppers():\n",
    "    print(\"\\n--- Topper in Each Subject ---\")\n",
    "    cursor.execute('''\n",
    "        SELECT subj.subject_name, stu.name, m.marks\n",
    "        FROM Marks m\n",
    "        JOIN student stu ON m.student_id = stu.student_id\n",
    "        JOIN subjects subj ON m.subject_id = subj.subject_id\n",
    "        WHERE (subj.subject_id, m.marks) IN (\n",
    "            SELECT subject_id, MAX(marks)\n",
    "            FROM Marks\n",
    "            GROUP BY subject_id\n",
    "        )\n",
    "    ''')\n",
    "    subject_toppers = cursor.fetchall()\n",
    "    for subject_name, student_name, max_mark in subject_toppers:\n",
    "        print(f\"Subject: {subject_name:<10} \\n Topper: {student_name:<10} | Marks: {max_mark}\")\n",
    "\n",
    "    print(\"\\n--- Overall Topper ---\")\n",
    "    cursor.execute('''\n",
    "        SELECT stu.name, SUM(m.marks) as total_marks\n",
    "        FROM Marks m\n",
    "        JOIN Student stu ON m.student_id = stu.student_id\n",
    "        GROUP BY m.student_id\n",
    "        ORDER BY total_marks DESC\n",
    "        LIMIT 1\n",
    "    ''')\n",
    "    overall_topper = cursor.fetchone()\n",
    "    if overall_topper:\n",
    "        name, total = overall_topper\n",
    "        print(f\"Overall Topper: {name} | Total Marks: {total}\")\n"
   ]
  },
  {
   "cell_type": "code",
   "execution_count": 221,
   "id": "9353e909-56b5-4cae-8763-15e2f49394ce",
   "metadata": {},
   "outputs": [],
   "source": [
    "## print student name and marks based on student id \n",
    "\n",
    "\n",
    "def student_reports(student_id):\n",
    "    \n",
    "\n",
    "    # Get student info\n",
    "    cursor.execute('''\n",
    "        SELECT name FROM student WHERE student_id = ?\n",
    "    ''', (student_id,))\n",
    "    student = cursor.fetchone()\n",
    "\n",
    "    if not student:\n",
    "        print(f\"No student found with ID {student_id}\")\n",
    "        return\n",
    "\n",
    "    student_name = student[0]\n",
    "\n",
    "    # Get subject-wise marks\n",
    "    cursor.execute('''\n",
    "        SELECT sub.subject_name, m.marks\n",
    "        FROM marks m\n",
    "        JOIN subjects sub ON m.subject_id = sub.subject_id\n",
    "        WHERE m.student_id = ?\n",
    "    ''', (student_id,))\n",
    "    subjects = cursor.fetchall()\n",
    "\n",
    "    if not subjects:\n",
    "        print(f\"No marks found for student ID {student_id}\")\n",
    "        return\n",
    "\n",
    "    # Calculate total, average, grade, status\n",
    "    marks_list = [row[1] for row in subjects]\n",
    "    total = sum(marks_list)\n",
    "    average = total / len(marks_list)\n",
    "\n",
    "    # Grade logic\n",
    "    if average >= 90:\n",
    "        grade = 'A+'\n",
    "    elif average >= 80:\n",
    "        grade = 'A'\n",
    "    elif average >= 70:\n",
    "        grade = 'B'\n",
    "    elif average >= 60:\n",
    "        grade = 'C'\n",
    "    elif average >= 50:\n",
    "        grade = 'D'\n",
    "    elif average >= 40:\n",
    "        grade = 'E'\n",
    "    else:\n",
    "        grade = 'F'\n",
    "\n",
    "    # Pass/Fail logic (all subjects must be >= 40)\n",
    "    status = \"Pass\" if all(mark >= 40 for mark in marks_list) else \"Fail\"\n",
    "\n",
    "    # Print report\n",
    "    print(f\"--- Report for Student ID: {student_id} ---\")\n",
    "    print(f\"Name: {student_name}\\n\")\n",
    "    print(\"Subject-wise Marks:\")\n",
    "    for subject, mark in subjects:\n",
    "        print(f\"{subject}: {mark}\")\n",
    "    print(f\"\\nTotal Marks: {total}\")\n",
    "    print(f\"Average Marks: {average:.2f}\")\n",
    "    print(f\"Grade: {grade}\")\n",
    "    print(f\"Status: {status}\")\n",
    "\n",
    "\n",
    "    \n"
   ]
  },
  {
   "cell_type": "code",
   "execution_count": 222,
   "id": "432a194d-add0-46b0-b29b-0e22df816b16",
   "metadata": {},
   "outputs": [],
   "source": [
    "#Department_summary\n",
    "def department_summary():\n",
    "    cursor.execute('''\n",
    "        SELECT \n",
    "            d.dept_name,\n",
    "            ROUND(AVG(m.marks), 2) AS average_marks\n",
    "        FROM marks m\n",
    "        JOIN student s ON m.student_id = s.student_id\n",
    "        JOIN departments d ON s.dept_id = d.dept_id\n",
    "        GROUP BY d.dept_name\n",
    "    ''')\n",
    "\n",
    "    print(\"Department-wise Average Marks:\")\n",
    "    for dept_name, avg_marks in cursor.fetchall():\n",
    "        print(f\"{dept_name}: {avg_marks}\")\n",
    "\n"
   ]
  },
  {
   "cell_type": "code",
   "execution_count": 223,
   "id": "beb09f44-db61-4637-a4e5-c476ae71374d",
   "metadata": {},
   "outputs": [],
   "source": [
    "def show_studentsNameNumber():\n",
    "    \n",
    "\n",
    "    cursor.execute('''\n",
    "        SELECT student_id, name FROM student\n",
    "    ''')\n",
    "\n",
    "    for row in cursor.fetchall():\n",
    "        print(f\"Student ID: {row[0]}, Name: {row[1]}\")\n",
    "\n"
   ]
  },
  {
   "cell_type": "code",
   "execution_count": 224,
   "id": "ef6d6f81-03f3-434f-8f23-18f8fabf7fc7",
   "metadata": {},
   "outputs": [
    {
     "name": "stdout",
     "output_type": "stream",
     "text": [
      "\n",
      "------------------------------- Students-------------------------------\n",
      "\n",
      "--- Students ---\n"
     ]
    },
    {
     "ename": "ProgrammingError",
     "evalue": "Cannot operate on a closed database.",
     "output_type": "error",
     "traceback": [
      "\u001b[31m---------------------------------------------------------------------------\u001b[39m",
      "\u001b[31mProgrammingError\u001b[39m                          Traceback (most recent call last)",
      "\u001b[36mCell\u001b[39m\u001b[36m \u001b[39m\u001b[32mIn[224]\u001b[39m\u001b[32m, line 2\u001b[39m\n\u001b[32m      1\u001b[39m \u001b[38;5;28mprint\u001b[39m(\u001b[33m\"\u001b[39m\u001b[38;5;130;01m\\n\u001b[39;00m\u001b[33m------------------------------- Students-------------------------------\u001b[39m\u001b[33m\"\u001b[39m)\n\u001b[32m----> \u001b[39m\u001b[32m2\u001b[39m \u001b[43mshow_studenst\u001b[49m\u001b[43m(\u001b[49m\u001b[43m)\u001b[49m\n\u001b[32m      3\u001b[39m \u001b[38;5;28mprint\u001b[39m(\u001b[33m\"\u001b[39m\u001b[38;5;130;01m\\n\u001b[39;00m\u001b[33m\"\u001b[39m + \u001b[33m\"\u001b[39m\u001b[33m=\u001b[39m\u001b[33m\"\u001b[39m * \u001b[32m100\u001b[39m + \u001b[33m\"\u001b[39m\u001b[38;5;130;01m\\n\u001b[39;00m\u001b[33m\"\u001b[39m)\n\u001b[32m      5\u001b[39m \u001b[38;5;28mprint\u001b[39m(\u001b[33m\"\u001b[39m\u001b[38;5;130;01m\\n\u001b[39;00m\u001b[33m------------------------------- Subjects -------------------------------\u001b[39m\u001b[33m\"\u001b[39m)\n",
      "\u001b[36mCell\u001b[39m\u001b[36m \u001b[39m\u001b[32mIn[178]\u001b[39m\u001b[32m, line 3\u001b[39m, in \u001b[36mshow_studenst\u001b[39m\u001b[34m()\u001b[39m\n\u001b[32m      1\u001b[39m \u001b[38;5;28;01mdef\u001b[39;00m\u001b[38;5;250m \u001b[39m\u001b[34mshow_studenst\u001b[39m():\n\u001b[32m      2\u001b[39m     \u001b[38;5;28mprint\u001b[39m(\u001b[33m\"\u001b[39m\u001b[38;5;130;01m\\n\u001b[39;00m\u001b[33m--- Students ---\u001b[39m\u001b[33m\"\u001b[39m)\n\u001b[32m----> \u001b[39m\u001b[32m3\u001b[39m     \u001b[43mcursor\u001b[49m\u001b[43m.\u001b[49m\u001b[43mexecute\u001b[49m\u001b[43m(\u001b[49m\u001b[33;43m'''\u001b[39;49m\n\u001b[32m      4\u001b[39m \u001b[33;43m        SELECT s.student_id, s.name, s.stu_class, d.dept_name\u001b[39;49m\n\u001b[32m      5\u001b[39m \u001b[33;43m        FROM student s\u001b[39;49m\n\u001b[32m      6\u001b[39m \u001b[33;43m        JOIN departments d ON s.dept_id = d.dept_id\u001b[39;49m\n\u001b[32m      7\u001b[39m \u001b[33;43m    \u001b[39;49m\u001b[33;43m'''\u001b[39;49m\u001b[43m)\u001b[49m\n\u001b[32m      8\u001b[39m     \u001b[38;5;28;01mfor\u001b[39;00m row \u001b[38;5;129;01min\u001b[39;00m cursor.fetchall():\n\u001b[32m      9\u001b[39m         \u001b[38;5;28mprint\u001b[39m(row)\n",
      "\u001b[31mProgrammingError\u001b[39m: Cannot operate on a closed database."
     ]
    }
   ],
   "source": [
    "print(\"\\n------------------------------- Students-------------------------------\")\n",
    "show_studenst()\n",
    "print(\"\\n\" + \"=\" * 100 + \"\\n\")\n",
    "\n",
    "print(\"\\n------------------------------- Subjects -------------------------------\")\n",
    "show_subjects()\n",
    "print(\"\\n\" + \"=\" * 100 + \"\\n\")\n",
    "\n",
    "print(\"\\n------------------------------- Marks -------------------------------\")\n",
    "show_marks()\n",
    "print(\"\\n\" + \"=\" * 100 + \"\\n\")\n",
    "\n",
    "print(\"\\n------------------------------- Toppers -------------------------------\")\n",
    "toppers()\n",
    "print(\"\\n\" + \"=\" * 100 + \"\\n\")\n",
    "\n",
    "print(\"\\n------------------------------- Unique Subjects Are -------------------------------\")\n",
    "unique_subjects()\n",
    "\n",
    "print(\"\\n------------------------------- Department Summary -------------------------------\")\n",
    "department_summary()\n",
    "\n",
    "print(\"\\n------------------------------- Select an ID to see the result -------------------------------\")\n",
    "show_studentsNameNumber()\n",
    "va=int(input(\"Select an ID to see the result\"))\n",
    "student_reports(va)\n"
   ]
  },
  {
   "cell_type": "code",
   "execution_count": null,
   "id": "a62a3bca-0a98-4e19-aa8f-e576ded6787f",
   "metadata": {},
   "outputs": [],
   "source": []
  }
 ],
 "metadata": {
  "kernelspec": {
   "display_name": "Python 3 (ipykernel)",
   "language": "python",
   "name": "python3"
  },
  "language_info": {
   "codemirror_mode": {
    "name": "ipython",
    "version": 3
   },
   "file_extension": ".py",
   "mimetype": "text/x-python",
   "name": "python",
   "nbconvert_exporter": "python",
   "pygments_lexer": "ipython3",
   "version": "3.13.7"
  }
 },
 "nbformat": 4,
 "nbformat_minor": 5
}
