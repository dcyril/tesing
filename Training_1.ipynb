{
 "cells": [
  {
   "cell_type": "code",
   "execution_count": 1,
   "id": "4343b2c0-66f5-41cf-96ba-a2af02121428",
   "metadata": {},
   "outputs": [
    {
     "name": "stdout",
     "output_type": "stream",
     "text": [
      "hello world\n"
     ]
    }
   ],
   "source": [
    "print(\"hello world\")"
   ]
  },
  {
   "cell_type": "code",
   "execution_count": 1,
   "id": "bca77c04-08e3-4c39-ae4e-923e991c7cb6",
   "metadata": {},
   "outputs": [],
   "source": []
  },
  {
   "cell_type": "markdown",
   "id": "9dc73045-d908-4d58-b79c-471704e9a1b5",
   "metadata": {},
   "source": [
    "# Basic Python\n"
   ]
  },
  {
   "cell_type": "code",
   "execution_count": 2,
   "id": "756363c5-543a-4914-88b2-e7b348d64853",
   "metadata": {},
   "outputs": [],
   "source": [
    "a,b=3,4"
   ]
  },
  {
   "cell_type": "code",
   "execution_count": 4,
   "id": "91967c5c-0281-4ec0-b62a-5fda8b7ffe5f",
   "metadata": {},
   "outputs": [
    {
     "data": {
      "text/plain": [
       "3"
      ]
     },
     "execution_count": 4,
     "metadata": {},
     "output_type": "execute_result"
    }
   ],
   "source": [
    "a"
   ]
  },
  {
   "cell_type": "code",
   "execution_count": 3,
   "id": "deaef884-a819-46e5-b0fb-b1ec660adbb5",
   "metadata": {},
   "outputs": [],
   "source": [
    "first_var = 8\n",
    "second_var = 3.5"
   ]
  },
  {
   "cell_type": "code",
   "execution_count": 7,
   "id": "5883c27d-0b20-469f-80eb-cda70c43db74",
   "metadata": {},
   "outputs": [
    {
     "data": {
      "text/plain": [
       "28.0"
      ]
     },
     "execution_count": 7,
     "metadata": {},
     "output_type": "execute_result"
    }
   ],
   "source": [
    "first_var * second_var "
   ]
  },
  {
   "cell_type": "code",
   "execution_count": 12,
   "id": "882f3a6e-f1b7-49ec-a6ae-5f42a852775a",
   "metadata": {},
   "outputs": [
    {
     "name": "stdout",
     "output_type": "stream",
     "text": [
      "sum =  11.5\n",
      "mul =  28.0\n",
      "div =  2.2857142857142856\n",
      "sub =  4.5\n"
     ]
    }
   ],
   "source": [
    "print(\"sum = \",first_var + second_var)\n",
    "print(\"mul = \",first_var * second_var)\n",
    "print(\"div = \",first_var / second_var)\n",
    "print(\"sub = \",first_var - second_var)"
   ]
  },
  {
   "cell_type": "code",
   "execution_count": 13,
   "id": "3deda8d2-9200-4082-b12e-1d73340bfe9f",
   "metadata": {},
   "outputs": [
    {
     "name": "stdout",
     "output_type": "stream",
     "text": [
      "enter name cyril\n"
     ]
    }
   ],
   "source": [
    "name=input(\"enter name\")"
   ]
  },
  {
   "cell_type": "code",
   "execution_count": 17,
   "id": "eb06612d-3615-45cb-a79a-b1ae8526d4ec",
   "metadata": {},
   "outputs": [
    {
     "name": "stdout",
     "output_type": "stream",
     "text": [
      "first number 10\n"
     ]
    }
   ],
   "source": [
    "first_number=int(input(\"first number\"))"
   ]
  },
  {
   "cell_type": "code",
   "execution_count": 18,
   "id": "a64e18d9-ea9b-4768-99a4-62321513a681",
   "metadata": {},
   "outputs": [
    {
     "data": {
      "text/plain": [
       "10"
      ]
     },
     "execution_count": 18,
     "metadata": {},
     "output_type": "execute_result"
    }
   ],
   "source": [
    "first_number\n"
   ]
  },
  {
   "cell_type": "code",
   "execution_count": 19,
   "id": "f9c88433-2fab-4cee-8fb1-806d02661ab3",
   "metadata": {},
   "outputs": [
    {
     "data": {
      "text/plain": [
       "int"
      ]
     },
     "execution_count": 19,
     "metadata": {},
     "output_type": "execute_result"
    }
   ],
   "source": [
    "type(first_number)"
   ]
  },
  {
   "cell_type": "code",
   "execution_count": null,
   "id": "724f076a-439c-4fa9-aecf-8555e2c5eeaa",
   "metadata": {},
   "outputs": [],
   "source": [
    "first_number=float(input(\"first number\"))\n",
    "Second_number=float(input(\"first number\"))\n",
    "\n",
    "if first_number>Second_number:\n",
    "    print(\"first_number is greater\")\n",
    "else:\n",
    "    print(\"Second_number is greater\")"
   ]
  },
  {
   "cell_type": "code",
   "execution_count": 50,
   "id": "01b6fcab-e36b-41ed-994d-e537e48bee26",
   "metadata": {},
   "outputs": [
    {
     "name": "stdout",
     "output_type": "stream",
     "text": [
      "first number 10\n",
      "first number 4\n",
      "select operation add ,mul,div,sub =  DiV\n"
     ]
    },
    {
     "name": "stdout",
     "output_type": "stream",
     "text": [
      "Div = 2.5\n"
     ]
    }
   ],
   "source": [
    "first_number=float(input(\"first number\"))\n",
    "Second_number=float(input(\"second number\"))\n",
    "c=input(\"select operation add ,mul,div,sub = \")\n",
    "c=c.lower()\n",
    "if c == \"add\":\n",
    "    print(\"sum =\", first_number + Second_number)\n",
    "elif c== \"mul\":\n",
    "    print(\"mul =\", first_number * Second_number)\n",
    "elif c== \"div\":\n",
    "    print(\"Div =\", first_number / Second_number)\n",
    "elif c== \"sub\":\n",
    "    print(\"Sub=\", first_number - Second_number)\n",
    "else:\n",
    "    print(\"Invalid Input\")\n",
    "\n",
    "    "
   ]
  },
  {
   "cell_type": "code",
   "execution_count": 49,
   "id": "6f827ef2-9770-4fdf-b3c5-1b9a83f91f52",
   "metadata": {},
   "outputs": [
    {
     "data": {
      "text/plain": [
       "'div'"
      ]
     },
     "execution_count": 49,
     "metadata": {},
     "output_type": "execute_result"
    }
   ],
   "source": [
    "c"
   ]
  },
  {
   "cell_type": "markdown",
   "id": "4fb8ecbb-7b47-4034-9d1b-cd8a52730a7c",
   "metadata": {},
   "source": [
    "input from the user two variable one for opperation using If create calculate if user want to continue then again take input and give answer"
   ]
  },
  {
   "cell_type": "code",
   "execution_count": 51,
   "id": "890528c0-31cf-4ed8-8b7b-ce2257377ec4",
   "metadata": {},
   "outputs": [
    {
     "name": "stdout",
     "output_type": "stream",
     "text": [
      "0\n",
      "1\n",
      "2\n",
      "3\n",
      "4\n"
     ]
    }
   ],
   "source": [
    "for i in range(5):\n",
    "        print(i)\n",
    "\n",
    "    \n"
   ]
  },
  {
   "cell_type": "code",
   "execution_count": 66,
   "id": "0afe923b-da25-432a-96c6-10c480a65710",
   "metadata": {},
   "outputs": [
    {
     "name": "stdout",
     "output_type": "stream",
     "text": [
      "0\n",
      "1\n",
      "2\n",
      "3\n",
      "4\n"
     ]
    },
    {
     "name": "stdout",
     "output_type": "stream",
     "text": [
      "Do you want to continue Y , N =  y\n"
     ]
    },
    {
     "name": "stdout",
     "output_type": "stream",
     "text": [
      "end\n",
      "0\n",
      "1\n",
      "2\n",
      "3\n",
      "4\n"
     ]
    },
    {
     "name": "stdout",
     "output_type": "stream",
     "text": [
      "Do you want to continue Y , N =  n\n"
     ]
    },
    {
     "name": "stdout",
     "output_type": "stream",
     "text": [
      "end\n"
     ]
    }
   ],
   "source": [
    "d='Y'\n",
    "while d == \"Y\":\n",
    "    for i in range(5):\n",
    "        print(i)\n",
    "    d =input(\"Do you want to continue Y , N = \")\n",
    "    d=d.upper()\n",
    "    print(\"end\")\n"
   ]
  },
  {
   "cell_type": "code",
   "execution_count": 90,
   "id": "ec0e8f20-02a9-4d03-8ab6-5044cc92ea20",
   "metadata": {},
   "outputs": [
    {
     "name": "stdout",
     "output_type": "stream",
     "text": [
      "first number 10\n",
      "second number 12\n",
      "select operation add ,mul,div,sub =  add\n"
     ]
    },
    {
     "name": "stdout",
     "output_type": "stream",
     "text": [
      "sum = 22.0\n"
     ]
    },
    {
     "name": "stdout",
     "output_type": "stream",
     "text": [
      "Do you want to continue Y , N =  y\n"
     ]
    },
    {
     "name": "stdout",
     "output_type": "stream",
     "text": [
      "end\n"
     ]
    },
    {
     "name": "stdout",
     "output_type": "stream",
     "text": [
      "first number 12\n",
      "second number 3\n",
      "select operation add ,mul,div,sub =  mul\n"
     ]
    },
    {
     "name": "stdout",
     "output_type": "stream",
     "text": [
      "mul = 36.0\n"
     ]
    },
    {
     "name": "stdout",
     "output_type": "stream",
     "text": [
      "Do you want to continue Y , N =  n\n"
     ]
    },
    {
     "name": "stdout",
     "output_type": "stream",
     "text": [
      "end\n"
     ]
    }
   ],
   "source": [
    "d='Y'\n",
    "while d == \"Y\":\n",
    "    first_number=float(input(\"first number\"))\n",
    "    Second_number=float(input(\"second number\"))\n",
    "    c=input(\"select operation add ,mul,div,sub = \")\n",
    "    c=c.lower()\n",
    "    if c == \"add\":\n",
    "        print(\"sum =\", first_number + Second_number)\n",
    "    elif c== \"mul\":\n",
    "        print(\"mul =\", first_number * Second_number)\n",
    "    elif c== \"div\":\n",
    "        print(\"Div =\", first_number / Second_number)\n",
    "    elif c== \"sub\":\n",
    "        print(\"Sub=\", first_number - Second_number)\n",
    "    else:\n",
    "        print(\"Invalid Input\")\n",
    "    d =input(\"Do you want to continue Y , N = \")\n",
    "    d=d.upper()\n",
    "    print(\"end\")"
   ]
  },
  {
   "cell_type": "markdown",
   "id": "f15f8522-34ab-41a3-b8b5-2d2a20a775ef",
   "metadata": {},
   "source": [
    "### Write a Python program that first asks the user to choose Mathematical or Logical operations. If Math, perform Add/Subtract/Multiply/Divide on two numbers; if Logical, perform AND/OR/NOT on boolean inputs. Use if-else, while loop, and functions to solve it."
   ]
  },
  {
   "cell_type": "code",
   "execution_count": 93,
   "id": "6be5bd02-2040-442d-8aec-5faf7ff6c635",
   "metadata": {},
   "outputs": [
    {
     "name": "stdout",
     "output_type": "stream",
     "text": [
      "Please Select a Number \n",
      " 1) Mathematical Operations \n",
      " 2) Logical Operations\n",
      "\n"
     ]
    },
    {
     "name": "stdout",
     "output_type": "stream",
     "text": [
      "Your Choice 4\n"
     ]
    },
    {
     "name": "stdout",
     "output_type": "stream",
     "text": [
      "Invalid Input \n",
      "Input either 1 or 2\n",
      "Please Select a Number \n",
      " 1) Mathematical Operations \n",
      " 2) Logical Operations\n",
      "\n"
     ]
    },
    {
     "name": "stdout",
     "output_type": "stream",
     "text": [
      "Your Choice 2\n"
     ]
    },
    {
     "name": "stdout",
     "output_type": "stream",
     "text": [
      "k\n"
     ]
    }
   ],
   "source": [
    "op=3\n",
    "while op==3:\n",
    "        print(\"Please Select a Number \\n 1) Mathematical Operations \\n 2) Logical Operations\\n\")\n",
    "        op=int(input(\"Your Choice\"))\n",
    "        if op == 1:\n",
    "            print(\"hi\")\n",
    "            c=\"No\"\n",
    "        elif op==2:\n",
    "            print(\"k\")\n",
    "            c=\"No\"\n",
    "        else:\n",
    "            op=3\n",
    "            print(\"Invalid Input \\nInput either 1 or 2\")\n",
    "    \n"
   ]
  },
  {
   "cell_type": "code",
   "execution_count": 116,
   "id": "b98c8a1d-d605-4d95-8db3-365cdf2bacfb",
   "metadata": {},
   "outputs": [
    {
     "name": "stdout",
     "output_type": "stream",
     "text": [
      "Please Select a Number \n",
      " 1) Mathematical Operations \n",
      " 2) Logical Operations\n",
      "\n"
     ]
    },
    {
     "name": "stdout",
     "output_type": "stream",
     "text": [
      "Your Choice 1\n"
     ]
    },
    {
     "name": "stdout",
     "output_type": "stream",
     "text": [
      "hi\n"
     ]
    },
    {
     "name": "stdout",
     "output_type": "stream",
     "text": [
      "Do you want to continue Y , N =  n\n"
     ]
    },
    {
     "name": "stdout",
     "output_type": "stream",
     "text": [
      "end\n"
     ]
    }
   ],
   "source": [
    "d='Y'\n",
    "while d == \"Y\":\n",
    "    op=3\n",
    "    while op==3:\n",
    "        print(\"Please Select a Number \\n 1) Mathematical Operations \\n 2) Logical Operations\\n\")\n",
    "        op=int(input(\"Your Choice\"))\n",
    "        if op == 1:\n",
    "            print(\"hi\")\n",
    "            c=\"No\"\n",
    "        elif op==2:\n",
    "            print(\"k\")\n",
    "            c=\"No\"\n",
    "        else:\n",
    "            op=3\n",
    "            print(\"Invalid Input \\nInput either 1 or 2\")\n",
    "    d =input(\"Do you want to continue Y , N = \")\n",
    "    d=d.upper()\n",
    "    \n",
    "print(\"end\")"
   ]
  },
  {
   "cell_type": "markdown",
   "id": "2ffb5ac7-5f16-497b-bdac-c51c98519de3",
   "metadata": {},
   "source": [
    "### Function Declaration"
   ]
  },
  {
   "cell_type": "code",
   "execution_count": 3,
   "id": "d013f874-4ab3-4985-a48d-aca70a2e5eb1",
   "metadata": {},
   "outputs": [],
   "source": [
    "def ari(first_number,Second_number):\n",
    "    c=input(\"select operation add ,mul,div,sub = \")\n",
    "    c=c.lower()\n",
    "    if c == \"add\":\n",
    "        print(\"sum =\", first_number + Second_number)\n",
    "    elif c== \"mul\":\n",
    "        print(\"mul =\", first_number * Second_number)\n",
    "    elif c== \"div\":\n",
    "        if first_number == 0:\n",
    "            print(\"division not possible\")\n",
    "        else:\n",
    "            print(\"Div =\", first_number / Second_number)\n",
    "        \n",
    "    elif c== \"sub\":\n",
    "        print(\"Sub=\", first_number - Second_number)\n",
    "    else:\n",
    "        print(\"Invalid Input\")\n",
    "        \n",
    "def log(a,b):\n",
    "    c=int(input(\"select operation 1) Positive Number ,2)Greater Number\"))\n",
    "    \n",
    "    if c == 1:\n",
    "        if a>0 and b>0:\n",
    "            print(\"both are positive numbers\")\n",
    "        else:\n",
    "            print(\"Not positive numbers\")\n",
    "    elif c== 2:\n",
    "        if a>b :\n",
    "            print(a,\"is greater than\",b)\n",
    "        elif b>a:\n",
    "            print(b,\"is greater than\",a)\n",
    "        else:\n",
    "            print(\"Both Are Same\")\n",
    "\n",
    "    "
   ]
  },
  {
   "cell_type": "code",
   "execution_count": 4,
   "id": "09051441-d378-4675-95ec-12e4d5e007c7",
   "metadata": {},
   "outputs": [
    {
     "name": "stdout",
     "output_type": "stream",
     "text": [
      "first number 0\n",
      "second number 0\n"
     ]
    },
    {
     "name": "stdout",
     "output_type": "stream",
     "text": [
      "Please Select a Number \n",
      " 1) Mathematical Operations \n",
      " 2) Logical Operations\n",
      "\n"
     ]
    },
    {
     "name": "stdout",
     "output_type": "stream",
     "text": [
      "Your Choice 1\n"
     ]
    },
    {
     "name": "stdout",
     "output_type": "stream",
     "text": [
      "Mathematical Operations\n",
      "\n"
     ]
    },
    {
     "name": "stdout",
     "output_type": "stream",
     "text": [
      "select operation add ,mul,div,sub =  div\n"
     ]
    },
    {
     "name": "stdout",
     "output_type": "stream",
     "text": [
      "division not possible\n"
     ]
    },
    {
     "name": "stdout",
     "output_type": "stream",
     "text": [
      "Do you want to continue Y , N =  n\n"
     ]
    },
    {
     "name": "stdout",
     "output_type": "stream",
     "text": [
      "----------------end-----------------\n"
     ]
    }
   ],
   "source": [
    "d='Y'\n",
    "while d == \"Y\":\n",
    "    first_number=float(input(\"first number\"))\n",
    "    Second_number=float(input(\"second number\"))\n",
    "    op=3\n",
    "    \n",
    "    while op==3:\n",
    "        print(\"Please Select a Number \\n 1) Mathematical Operations \\n 2) Logical Operations\\n\")\n",
    "        op=int(input(\"Your Choice\"))\n",
    "        if op == 1:\n",
    "            print(\"Mathematical Operations\\n\")\n",
    "            r=ari(first_number,Second_number)\n",
    "            c=\"No\"\n",
    "        elif op==2:\n",
    "            r=log(first_number,Second_number)\n",
    "            c=\"No\"\n",
    "        else:\n",
    "            op=3\n",
    "            print(\"Invalid Input \\nInput either 1 or 2\")\n",
    "    d =input(\"Do you want to continue Y , N = \")\n",
    "    d=d.upper()\n",
    "    \n",
    "print(\"----------------end-----------------\")"
   ]
  },
  {
   "cell_type": "code",
   "execution_count": null,
   "id": "a87b8ce3-2688-40ab-9537-20eff6262387",
   "metadata": {},
   "outputs": [],
   "source": [
    "1\n"
   ]
  }
 ],
 "metadata": {
  "kernelspec": {
   "display_name": "Python 3",
   "language": "python",
   "name": "python3"
  },
  "language_info": {
   "codemirror_mode": {
    "name": "ipython",
    "version": 3
   },
   "file_extension": ".py",
   "mimetype": "text/x-python",
   "name": "python",
   "nbconvert_exporter": "python",
   "pygments_lexer": "ipython3",
   "version": "3.13.7"
  }
 },
 "nbformat": 4,
 "nbformat_minor": 5
}
